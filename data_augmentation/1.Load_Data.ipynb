{
 "cells": [
  {
   "cell_type": "markdown",
   "source": [
    "## 1. download preprocessed data file from GDrive\n",
    "\n",
    "https://drive.google.com/file/d/1gpRoUAUUmSHYL2a103FybDbufE6iX7sS/view?usp=sharing"
   ],
   "metadata": {
    "collapsed": false
   }
  },
  {
   "cell_type": "code",
   "execution_count": 32,
   "outputs": [
    {
     "name": "stdout",
     "output_type": "stream",
     "text": [
      "File already exists.\n"
     ]
    }
   ],
   "source": [
    "import os\n",
    "import gdown\n",
    "\n",
    "def download_file_from_google_drive(file_id, destination):\n",
    "    if not os.path.exists(destination):\n",
    "        url = f'https://drive.google.com/uc?id={file_id}'\n",
    "        gdown.download(url, destination, quiet=False)\n",
    "    else:\n",
    "        print(\"File already exists.\")\n",
    "\n",
    "file_id = '1gpRoUAUUmSHYL2a103FybDbufE6iX7sS'\n",
    "destination = 'data/data.pkl'\n",
    "\n",
    "download_file_from_google_drive(file_id, destination)"
   ],
   "metadata": {
    "collapsed": false,
    "ExecuteTime": {
     "end_time": "2023-12-01T12:16:03.887402700Z",
     "start_time": "2023-12-01T12:16:03.875900100Z"
    }
   }
  },
  {
   "cell_type": "markdown",
   "source": [
    "## 2. Load data"
   ],
   "metadata": {
    "collapsed": false
   }
  },
  {
   "cell_type": "code",
   "execution_count": 20,
   "metadata": {
    "collapsed": true,
    "ExecuteTime": {
     "end_time": "2023-12-01T11:51:55.642785500Z",
     "start_time": "2023-12-01T11:51:55.077187400Z"
    }
   },
   "outputs": [],
   "source": [
    "import pickle\n",
    "\n",
    "\n",
    "def unpickle(file):\n",
    "    with open(file, 'rb') as fo:\n",
    "        data = pickle.load(fo)\n",
    "    return data\n",
    "\n",
    "\n",
    "training_data = unpickle('data/data.pkl')"
   ]
  },
  {
   "cell_type": "markdown",
   "source": [
    "Structure of preprocessed data:\n",
    "```{python}\n",
    "{\n",
    "    \"Images\": [...],\n",
    "    \"Labels\": [...],\n",
    "    \"GeneralClass\": [...]\n",
    "}\n",
    "```\n",
    "\n",
    "`training_data[\"Images\"]` is a list of 32x32x3 ndarray, each represents an Image.\n",
    "`training_data[\"Labels\"]` represents that image's label subclass ID, range from 0 to 87 (see\n",
    "`subclass_mapping.csv`)\n",
    "`training_data[\"GeneralClass\"]` represents that image's label general ID, range from 0 to 3 (see\n",
    "`superclass_mapping.csv`)"
   ],
   "metadata": {
    "collapsed": false
   }
  },
  {
   "cell_type": "markdown",
   "source": [
    "## 3. Load labels mapping"
   ],
   "metadata": {
    "collapsed": false
   }
  },
  {
   "cell_type": "code",
   "execution_count": 23,
   "outputs": [],
   "source": [
    "import csv\n",
    "\n",
    "subclass_generalclass_map = {}  # {\"Subclass ID\": \"General class ID\"}\n",
    "imageNetId_taskId_map = {}  # {\"ImageNet ID\": \"Subclass ID\"}\n",
    "subclassId_className_map = {}  # {\"Subclass ID\": \"Subclass name\"}\n",
    "generalclassId_className_map = {0: \"bird\", 1: \"dog\", 2: \"reptile\", 3: \"novel\"}  # {\"General class\n",
    "# ID\": \"General Class Name\"}\n",
    "with open(\"data/subclass_mapping.csv\", \"r\", newline=\"\", encoding=\"utf-8\") as f:\n",
    "    csv_file = csv.reader(f)\n",
    "    next(csv_file, None)\n",
    "\n",
    "    for row in csv_file:\n",
    "        try:\n",
    "            subclass_generalclass_map[int(row[4])] = int(row[3])\n",
    "            imageNetId_taskId_map[int(row[4])] = int(row[0])\n",
    "            subclassId_className_map[int(row[0])] = row[1]\n",
    "        except ValueError:\n",
    "            pass\n",
    "    subclassId_className_map[87] = \"Novel\""
   ],
   "metadata": {
    "collapsed": false,
    "ExecuteTime": {
     "end_time": "2023-12-01T11:54:18.341956700Z",
     "start_time": "2023-12-01T11:54:18.332957Z"
    }
   }
  },
  {
   "cell_type": "markdown",
   "source": [
    "# 4. Some statistics"
   ],
   "metadata": {
    "collapsed": false
   }
  },
  {
   "cell_type": "code",
   "execution_count": 21,
   "outputs": [
    {
     "name": "stdout",
     "output_type": "stream",
     "text": [
      "bird: 36224 Images\n",
      "dog: 36224 Images\n",
      "reptile: 36224 Images\n",
      "novel: 36224 Images\n"
     ]
    }
   ],
   "source": [
    "generalclass_count = {0: 0, 1: 0, 2: 0, 3: 0}\n",
    "for super_class in training_data[\"GeneralClass\"]:\n",
    "    generalclass_count[super_class] += 1\n",
    "for super_class in generalclassId_className_map:\n",
    "    print(generalclassId_className_map[super_class] + \": \" + str(generalclass_count[super_class]) +\n",
    "          \" Images\")"
   ],
   "metadata": {
    "collapsed": false,
    "ExecuteTime": {
     "end_time": "2023-12-01T11:51:58.868585700Z",
     "start_time": "2023-12-01T11:51:58.853810800Z"
    }
   }
  },
  {
   "cell_type": "code",
   "execution_count": 26,
   "outputs": [
    {
     "name": "stdout",
     "output_type": "stream",
     "text": [
      "Scotch terrier, Scottish terrier, Scottie\n",
      "\t\t\t\t\t\t 1300 Images\n",
      "African chameleon, Chamaeleo chamaeleon\n",
      "\t\t\t\t\t\t 1252 Images\n",
      "standard schnauzer\n",
      "\t\t\t\t\t\t 1300 Images\n",
      "terrapin\n",
      "\t\t\t\t\t\t 1246 Images\n",
      "great grey owl, great gray owl, Strix nebulosa\n",
      "\t\t\t\t\t\t 1245 Images\n",
      "bustard\n",
      "\t\t\t\t\t\t 1241 Images\n",
      "ptarmigan\n",
      "\t\t\t\t\t\t 1256 Images\n",
      "Pekinese, Pekingese, Peke\n",
      "\t\t\t\t\t\t 1300 Images\n",
      "hen\n",
      "\t\t\t\t\t\t 1261 Images\n",
      "Lhasa, Lhasa apso\n",
      "\t\t\t\t\t\t 1300 Images\n",
      "Lakeland terrier\n",
      "\t\t\t\t\t\t 1300 Images\n",
      "pelican\n",
      "\t\t\t\t\t\t 1234 Images\n",
      "Tibetan terrier, chrysanthemum dog\n",
      "\t\t\t\t\t\t 1300 Images\n",
      "agama\n",
      "\t\t\t\t\t\t 1255 Images\n",
      "junco, snowbird\n",
      "\t\t\t\t\t\t 1253 Images\n",
      "mud turtle\n",
      "\t\t\t\t\t\t 1244 Images\n",
      "cock\n",
      "\t\t\t\t\t\t 1253 Images\n",
      "cairn, cairn terrier\n",
      "\t\t\t\t\t\t 1300 Images\n",
      "Blenheim spaniel\n",
      "\t\t\t\t\t\t 1300 Images\n",
      "brambling, Fringilla montifringilla\n",
      "\t\t\t\t\t\t 1256 Images\n",
      "king penguin, Aptenodytes patagonica\n",
      "\t\t\t\t\t\t 1248 Images\n",
      "Chihuahua\n",
      "\t\t\t\t\t\t 1300 Images\n",
      "Japanese spaniel\n",
      "\t\t\t\t\t\t 772 Images\n",
      "Dandie Dinmont, Dandie Dinmont terrier\n",
      "\t\t\t\t\t\t 1156 Images\n",
      "bald eagle, American eagle, Haliaeetus leucocephalus\n",
      "\t\t\t\t\t\t 1252 Images\n",
      "Airedale, Airedale terrier\n",
      "\t\t\t\t\t\t 1300 Images\n",
      "albatross, mollymawk\n",
      "\t\t\t\t\t\t 1234 Images\n",
      "water ouzel, dipper\n",
      "\t\t\t\t\t\t 1252 Images\n",
      "black grouse\n",
      "\t\t\t\t\t\t 1256 Images\n",
      "spotted salamander, Ambystoma maculatum\n",
      "\t\t\t\t\t\t 1249 Images\n",
      "vulture\n",
      "\t\t\t\t\t\t 1263 Images\n",
      "Shih-Tzu\n",
      "\t\t\t\t\t\t 1300 Images\n",
      "giant schnauzer\n",
      "\t\t\t\t\t\t 1300 Images\n",
      "common iguana, iguana, Iguana iguana\n",
      "\t\t\t\t\t\t 1263 Images\n",
      "tailed frog, bell toad, ribbed toad, tailed toad, Ascaphus trui\n",
      "\t\t\t\t\t\t 1261 Images\n",
      "thunder snake, worm snake, Carphophis amoenus\n",
      "\t\t\t\t\t\t 1262 Images\n",
      "basset, basset hound\n",
      "\t\t\t\t\t\t 1300 Images\n",
      "Maltese dog, Maltese terrier, Maltese\n",
      "\t\t\t\t\t\t 1300 Images\n",
      "Sealyham terrier, Sealyham\n",
      "\t\t\t\t\t\t 936 Images\n",
      "frilled lizard, Chlamydosaurus kingi\n",
      "\t\t\t\t\t\t 1080 Images\n",
      "red-backed sandpiper, dunlin, Erolia alpina\n",
      "\t\t\t\t\t\t 1241 Images\n",
      "redshank, Tringa totanus\n",
      "\t\t\t\t\t\t 1252 Images\n",
      "oystercatcher, oyster catcher\n",
      "\t\t\t\t\t\t 1247 Images\n",
      "American alligator, Alligator mississipiensis\n",
      "\t\t\t\t\t\t 1263 Images\n",
      "hognose snake, puff adder, sand viper\n",
      "\t\t\t\t\t\t 1254 Images\n",
      "Australian terrier\n",
      "\t\t\t\t\t\t 1300 Images\n",
      "papillon\n",
      "\t\t\t\t\t\t 1300 Images\n",
      "Komodo dragon, Komodo lizard, dragon lizard, giant lizard, Varanus komodoensis\n",
      "\t\t\t\t\t\t 1269 Images\n",
      "American chameleon, anole, Anolis carolinensis\n",
      "\t\t\t\t\t\t 1248 Images\n",
      "bloodhound, sleuthhound\n",
      "\t\t\t\t\t\t 1300 Images\n",
      "European fire salamander, Salamandra salamandra\n",
      "\t\t\t\t\t\t 1256 Images\n",
      "ostrich, Struthio camelus\n",
      "\t\t\t\t\t\t 1260 Images\n",
      "triceratops\n",
      "\t\t\t\t\t\t 1231 Images\n",
      "soft-coated wheaten terrier\n",
      "\t\t\t\t\t\t 1300 Images\n",
      "West Highland white terrier\n",
      "\t\t\t\t\t\t 1300 Images\n",
      "loggerhead, loggerhead turtle, Caretta caretta\n",
      "\t\t\t\t\t\t 1256 Images\n",
      "bulbul\n",
      "\t\t\t\t\t\t 1257 Images\n",
      "alligator lizard\n",
      "\t\t\t\t\t\t 1253 Images\n",
      "African crocodile, Nile crocodile, Crocodylus niloticus\n",
      "\t\t\t\t\t\t 1257 Images\n",
      "house finch, linnet, Carpodacus mexicanus\n",
      "\t\t\t\t\t\t 1263 Images\n",
      "goldfinch, Carduelis carduelis\n",
      "\t\t\t\t\t\t 1254 Images\n",
      "common newt, Triturus vulgaris\n",
      "\t\t\t\t\t\t 1250 Images\n",
      "Afghan hound, Afghan\n",
      "\t\t\t\t\t\t 1300 Images\n",
      "bullfrog, Rana catesbeiana\n",
      "\t\t\t\t\t\t 1260 Images\n",
      "Rhodesian ridgeback\n",
      "\t\t\t\t\t\t 1300 Images\n",
      "beagle\n",
      "\t\t\t\t\t\t 1300 Images\n",
      "green lizard, Lacerta viridis\n",
      "\t\t\t\t\t\t 1258 Images\n",
      "banded gecko\n",
      "\t\t\t\t\t\t 1258 Images\n",
      "leatherback turtle, leatherback, leathery turtle, Dermochelys coriacea\n",
      "\t\t\t\t\t\t 1259 Images\n",
      "tree frog, tree-frog\n",
      "\t\t\t\t\t\t 1259 Images\n",
      "toy terrier\n",
      "\t\t\t\t\t\t 860 Images\n",
      "Gila monster, Heloderma suspectum\n",
      "\t\t\t\t\t\t 1256 Images\n",
      "axolotl, mud puppy, Ambystoma mexicanum\n",
      "\t\t\t\t\t\t 1256 Images\n",
      "dowitcher\n",
      "\t\t\t\t\t\t 1251 Images\n",
      "whiptail, whiptail lizard\n",
      "\t\t\t\t\t\t 1245 Images\n",
      "chickadee\n",
      "\t\t\t\t\t\t 1240 Images\n",
      "green snake, grass snake\n",
      "\t\t\t\t\t\t 1260 Images\n",
      "silky terrier, Sydney silky\n",
      "\t\t\t\t\t\t 1300 Images\n",
      "indigo bunting, indigo finch, indigo bird, Passerina cyanea\n",
      "\t\t\t\t\t\t 1253 Images\n",
      "Boston bull, Boston terrier\n",
      "\t\t\t\t\t\t 1300 Images\n",
      "American coot, marsh hen, mud hen, water hen, Fulica americana\n",
      "\t\t\t\t\t\t 1238 Images\n",
      "ringneck snake, ring-necked snake, ring snake\n",
      "\t\t\t\t\t\t 1264 Images\n",
      "ruddy turnstone, Arenaria interpres\n",
      "\t\t\t\t\t\t 1244 Images\n",
      "robin, American robin, Turdus migratorius\n",
      "\t\t\t\t\t\t 1236 Images\n",
      "magpie\n",
      "\t\t\t\t\t\t 1241 Images\n",
      "miniature schnauzer\n",
      "\t\t\t\t\t\t 1300 Images\n",
      "European gallinule, Porphyrio porphyrio\n",
      "\t\t\t\t\t\t 1243 Images\n",
      "Novel\n",
      "\t\t\t\t\t\t 36224 Images\n"
     ]
    }
   ],
   "source": [
    "subclass_count = {}\n",
    "for subclass in subclassId_className_map:\n",
    "    subclass_count[subclass] = 0\n",
    "for subclass in training_data[\"Labels\"]:\n",
    "    subclass_count[subclass] += 1\n",
    "for subclass in subclassId_className_map:\n",
    "    print(subclassId_className_map[subclass] + \"\\n\\t\\t\\t\\t\\t\\t \" + str(subclass_count[subclass]) +\n",
    "          \" Images\")"
   ],
   "metadata": {
    "collapsed": false,
    "ExecuteTime": {
     "end_time": "2023-12-01T11:54:51.214770Z",
     "start_time": "2023-12-01T11:54:51.203086500Z"
    }
   }
  },
  {
   "cell_type": "markdown",
   "source": [
    "## 5. Test the image and the label is correctly aligned"
   ],
   "metadata": {
    "collapsed": false
   }
  },
  {
   "cell_type": "code",
   "execution_count": 29,
   "outputs": [
    {
     "name": "stdout",
     "output_type": "stream",
     "text": [
      "samples/0-novel-Novel.png\n",
      "samples/1-reptile-triceratops.png\n",
      "samples/2-reptile-Komodo dragon, Komodo lizard, dragon lizard, giant lizard, Varanus komodoensis.png\n",
      "samples/3-dog-Maltese dog, Maltese terrier, Maltese.png\n",
      "samples/4-dog-basset, basset hound.png\n",
      "samples/5-dog-West Highland white terrier.png\n",
      "samples/6-dog-Maltese dog, Maltese terrier, Maltese.png\n",
      "samples/7-bird-goldfinch, Carduelis carduelis.png\n",
      "samples/8-novel-Novel.png\n",
      "samples/9-dog-West Highland white terrier.png\n"
     ]
    }
   ],
   "source": [
    "from PIL import Image\n",
    "\n",
    "# Show first ten images with label to make sure they are correct\n",
    "for i in range(10):\n",
    "    img = training_data['Images'][i]\n",
    "    file_name = \"samples/\" + str(i) + \"-\" + \\\n",
    "                generalclassId_className_map[training_data[\"GeneralClass\"][i]] + \"-\" \\\n",
    "                + \\\n",
    "                subclassId_className_map[training_data[\"Labels\"][i]] + '.png'\n",
    "    Image.fromarray(img, 'RGB').save(file_name)\n",
    "    print(file_name)"
   ],
   "metadata": {
    "collapsed": false,
    "ExecuteTime": {
     "end_time": "2023-12-01T11:58:55.539101300Z",
     "start_time": "2023-12-01T11:58:55.518037700Z"
    }
   }
  },
  {
   "cell_type": "code",
   "execution_count": null,
   "outputs": [],
   "source": [],
   "metadata": {
    "collapsed": false
   }
  }
 ],
 "metadata": {
  "kernelspec": {
   "display_name": "Python 3",
   "language": "python",
   "name": "python3"
  },
  "language_info": {
   "codemirror_mode": {
    "name": "ipython",
    "version": 2
   },
   "file_extension": ".py",
   "mimetype": "text/x-python",
   "name": "python",
   "nbconvert_exporter": "python",
   "pygments_lexer": "ipython2",
   "version": "2.7.6"
  }
 },
 "nbformat": 4,
 "nbformat_minor": 0
}
